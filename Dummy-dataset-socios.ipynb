{
 "cells": [
  {
   "cell_type": "code",
   "execution_count": 1,
   "metadata": {},
   "outputs": [],
   "source": [
    "import numpy as np"
   ]
  },
  {
   "cell_type": "code",
   "execution_count": 2,
   "metadata": {},
   "outputs": [],
   "source": [
    "import pandas as pd"
   ]
  },
  {
   "cell_type": "code",
   "execution_count": 21,
   "metadata": {},
   "outputs": [],
   "source": [
    "Nombre = [\"Joaquin\", \"Manuel\", \"Luciana\", \"Yesica\", \"Adrian\", \"Mariano\", \"Juliana\", \"Tatiana\"]\n",
    "Localidad = [\"City bell\", \"Gonnet\", \"La plata\", \"Villa elisa\"]\n",
    "aldia = [\"si\", \"no\"]"
   ]
  },
  {
   "cell_type": "code",
   "execution_count": 23,
   "metadata": {},
   "outputs": [],
   "source": [
    "n = 300\n",
    "genero_Nombre = []\n",
    "genero_Localidad = []\n",
    "genero_aldia = []\n",
    "\n",
    "for i in range(0, n):\n",
    "    genero_Nombre.append(np.random.choice(Nombre))\n",
    "    genero_Localidad.append(np.random.choice(Localidad))\n",
    "    genero_aldia.append(np.random.choice(aldia))"
   ]
  },
  {
   "cell_type": "code",
   "execution_count": 15,
   "metadata": {},
   "outputs": [
    {
     "data": {
      "text/plain": [
       "['Juliana',\n",
       " 'Joaquin',\n",
       " 'Manuel',\n",
       " 'Adrian',\n",
       " 'Luciana',\n",
       " 'Adrian',\n",
       " 'Luciana',\n",
       " 'Manuel',\n",
       " 'Joaquin',\n",
       " 'Juliana']"
      ]
     },
     "execution_count": 15,
     "metadata": {},
     "output_type": "execute_result"
    }
   ],
   "source": [
    "genero_Nombre[0:10]"
   ]
  },
  {
   "cell_type": "code",
   "execution_count": 20,
   "metadata": {},
   "outputs": [
    {
     "data": {
      "text/plain": [
       "['Gonnet',\n",
       " 'Gonnet',\n",
       " 'La plata',\n",
       " 'City bell',\n",
       " 'Villa elisa',\n",
       " 'La plata',\n",
       " 'City bell',\n",
       " 'City bell',\n",
       " 'Gonnet',\n",
       " 'La plata']"
      ]
     },
     "execution_count": 20,
     "metadata": {},
     "output_type": "execute_result"
    }
   ],
   "source": [
    "genero_Localidad[0:10]"
   ]
  },
  {
   "cell_type": "code",
   "execution_count": 24,
   "metadata": {},
   "outputs": [
    {
     "data": {
      "text/plain": [
       "['si', 'si', 'si', 'si', 'si', 'si', 'no', 'no', 'si', 'si']"
      ]
     },
     "execution_count": 24,
     "metadata": {},
     "output_type": "execute_result"
    }
   ],
   "source": [
    "genero_aldia[0:10]"
   ]
  },
  {
   "cell_type": "code",
   "execution_count": 52,
   "metadata": {},
   "outputs": [],
   "source": [
    "numero_socio = np.random.randint(1,100000)\n",
    "asistencias = 20 + 5 * np.random.randn(n)\n",
    "actividades = np.random.randint(1,2)\n",
    "edad = 35 + 20 + np.random.randn(n)\n",
    "socios = pd.DataFrame(\n",
    "    {\n",
    "        \"Nombre\" : genero_Nombre,\n",
    "        \"Localidad\" : genero_Localidad,\n",
    "        \"Al día\" : genero_aldia,\n",
    "        \"Numero de socio\" : numero_socio,\n",
    "        \"Cantidad de asistencias a la intitucion\" : asistencias,\n",
    "        \"Cantidad de actividades que realiza\" : actividades,\n",
    "        \"Edad\" : edad\n",
    "     }\n",
    "\n",
    ")"
   ]
  },
  {
   "cell_type": "code",
   "execution_count": 53,
   "metadata": {},
   "outputs": [
    {
     "data": {
      "text/html": [
       "<div>\n",
       "<style scoped>\n",
       "    .dataframe tbody tr th:only-of-type {\n",
       "        vertical-align: middle;\n",
       "    }\n",
       "\n",
       "    .dataframe tbody tr th {\n",
       "        vertical-align: top;\n",
       "    }\n",
       "\n",
       "    .dataframe thead th {\n",
       "        text-align: right;\n",
       "    }\n",
       "</style>\n",
       "<table border=\"1\" class=\"dataframe\">\n",
       "  <thead>\n",
       "    <tr style=\"text-align: right;\">\n",
       "      <th></th>\n",
       "      <th>Nombre</th>\n",
       "      <th>Localidad</th>\n",
       "      <th>Al día</th>\n",
       "      <th>Numero de socio</th>\n",
       "      <th>Cantidad de asistencias a la intitucion</th>\n",
       "      <th>Cantidad de actividades que realiza</th>\n",
       "      <th>Edad</th>\n",
       "    </tr>\n",
       "  </thead>\n",
       "  <tbody>\n",
       "    <tr>\n",
       "      <th>0</th>\n",
       "      <td>Tatiana</td>\n",
       "      <td>Villa elisa</td>\n",
       "      <td>si</td>\n",
       "      <td>29129</td>\n",
       "      <td>10.923675</td>\n",
       "      <td>1</td>\n",
       "      <td>54.696429</td>\n",
       "    </tr>\n",
       "    <tr>\n",
       "      <th>1</th>\n",
       "      <td>Tatiana</td>\n",
       "      <td>City bell</td>\n",
       "      <td>si</td>\n",
       "      <td>29129</td>\n",
       "      <td>20.645374</td>\n",
       "      <td>1</td>\n",
       "      <td>56.904056</td>\n",
       "    </tr>\n",
       "    <tr>\n",
       "      <th>2</th>\n",
       "      <td>Juliana</td>\n",
       "      <td>La plata</td>\n",
       "      <td>si</td>\n",
       "      <td>29129</td>\n",
       "      <td>15.141594</td>\n",
       "      <td>1</td>\n",
       "      <td>55.274598</td>\n",
       "    </tr>\n",
       "    <tr>\n",
       "      <th>3</th>\n",
       "      <td>Yesica</td>\n",
       "      <td>La plata</td>\n",
       "      <td>si</td>\n",
       "      <td>29129</td>\n",
       "      <td>20.023950</td>\n",
       "      <td>1</td>\n",
       "      <td>53.796019</td>\n",
       "    </tr>\n",
       "    <tr>\n",
       "      <th>4</th>\n",
       "      <td>Mariano</td>\n",
       "      <td>La plata</td>\n",
       "      <td>si</td>\n",
       "      <td>29129</td>\n",
       "      <td>21.825987</td>\n",
       "      <td>1</td>\n",
       "      <td>54.277341</td>\n",
       "    </tr>\n",
       "    <tr>\n",
       "      <th>5</th>\n",
       "      <td>Luciana</td>\n",
       "      <td>Gonnet</td>\n",
       "      <td>si</td>\n",
       "      <td>29129</td>\n",
       "      <td>13.392863</td>\n",
       "      <td>1</td>\n",
       "      <td>55.285303</td>\n",
       "    </tr>\n",
       "    <tr>\n",
       "      <th>6</th>\n",
       "      <td>Luciana</td>\n",
       "      <td>Gonnet</td>\n",
       "      <td>no</td>\n",
       "      <td>29129</td>\n",
       "      <td>14.707537</td>\n",
       "      <td>1</td>\n",
       "      <td>55.599159</td>\n",
       "    </tr>\n",
       "    <tr>\n",
       "      <th>7</th>\n",
       "      <td>Mariano</td>\n",
       "      <td>La plata</td>\n",
       "      <td>no</td>\n",
       "      <td>29129</td>\n",
       "      <td>16.662027</td>\n",
       "      <td>1</td>\n",
       "      <td>54.286533</td>\n",
       "    </tr>\n",
       "    <tr>\n",
       "      <th>8</th>\n",
       "      <td>Manuel</td>\n",
       "      <td>La plata</td>\n",
       "      <td>si</td>\n",
       "      <td>29129</td>\n",
       "      <td>19.181280</td>\n",
       "      <td>1</td>\n",
       "      <td>54.844915</td>\n",
       "    </tr>\n",
       "    <tr>\n",
       "      <th>9</th>\n",
       "      <td>Tatiana</td>\n",
       "      <td>La plata</td>\n",
       "      <td>si</td>\n",
       "      <td>29129</td>\n",
       "      <td>19.391009</td>\n",
       "      <td>1</td>\n",
       "      <td>55.370215</td>\n",
       "    </tr>\n",
       "    <tr>\n",
       "      <th>10</th>\n",
       "      <td>Juliana</td>\n",
       "      <td>La plata</td>\n",
       "      <td>no</td>\n",
       "      <td>29129</td>\n",
       "      <td>21.201449</td>\n",
       "      <td>1</td>\n",
       "      <td>56.370173</td>\n",
       "    </tr>\n",
       "  </tbody>\n",
       "</table>\n",
       "</div>"
      ],
      "text/plain": [
       "     Nombre    Localidad Al día  Numero de socio  \\\n",
       "0   Tatiana  Villa elisa     si            29129   \n",
       "1   Tatiana    City bell     si            29129   \n",
       "2   Juliana     La plata     si            29129   \n",
       "3    Yesica     La plata     si            29129   \n",
       "4   Mariano     La plata     si            29129   \n",
       "5   Luciana       Gonnet     si            29129   \n",
       "6   Luciana       Gonnet     no            29129   \n",
       "7   Mariano     La plata     no            29129   \n",
       "8    Manuel     La plata     si            29129   \n",
       "9   Tatiana     La plata     si            29129   \n",
       "10  Juliana     La plata     no            29129   \n",
       "\n",
       "    Cantidad de asistencias a la intitucion  \\\n",
       "0                                 10.923675   \n",
       "1                                 20.645374   \n",
       "2                                 15.141594   \n",
       "3                                 20.023950   \n",
       "4                                 21.825987   \n",
       "5                                 13.392863   \n",
       "6                                 14.707537   \n",
       "7                                 16.662027   \n",
       "8                                 19.181280   \n",
       "9                                 19.391009   \n",
       "10                                21.201449   \n",
       "\n",
       "    Cantidad de actividades que realiza       Edad  \n",
       "0                                     1  54.696429  \n",
       "1                                     1  56.904056  \n",
       "2                                     1  55.274598  \n",
       "3                                     1  53.796019  \n",
       "4                                     1  54.277341  \n",
       "5                                     1  55.285303  \n",
       "6                                     1  55.599159  \n",
       "7                                     1  54.286533  \n",
       "8                                     1  54.844915  \n",
       "9                                     1  55.370215  \n",
       "10                                    1  56.370173  "
      ]
     },
     "execution_count": 53,
     "metadata": {},
     "output_type": "execute_result"
    }
   ],
   "source": [
    "socios.head(11)"
   ]
  },
  {
   "cell_type": "code",
   "execution_count": null,
   "metadata": {},
   "outputs": [],
   "source": []
  }
 ],
 "metadata": {
  "kernelspec": {
   "display_name": "Python 3",
   "language": "python",
   "name": "python3"
  },
  "language_info": {
   "codemirror_mode": {
    "name": "ipython",
    "version": 3
   },
   "file_extension": ".py",
   "mimetype": "text/x-python",
   "name": "python",
   "nbconvert_exporter": "python",
   "pygments_lexer": "ipython3",
   "version": "3.7.3"
  }
 },
 "nbformat": 4,
 "nbformat_minor": 2
}
